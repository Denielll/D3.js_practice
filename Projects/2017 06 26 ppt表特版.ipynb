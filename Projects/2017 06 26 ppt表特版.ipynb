{
 "cells": [
  {
   "cell_type": "markdown",
   "metadata": {},
   "source": [
    "參考教學： http://blog.castman.net/%E6%95%99%E5%AD%B8/2016/12/20/python-data-science-tutorial-2.html"
   ]
  },
  {
   "cell_type": "markdown",
   "metadata": {},
   "source": [
    "# requests"
   ]
  },
  {
   "cell_type": "code",
   "execution_count": 1,
   "metadata": {
    "collapsed": false
   },
   "outputs": [],
   "source": [
    "import requests"
   ]
  },
  {
   "cell_type": "code",
   "execution_count": 2,
   "metadata": {
    "collapsed": true
   },
   "outputs": [],
   "source": [
    "def get_web_page(url):\n",
    "    resp = requests.get(\n",
    "    url = url,\n",
    "    cookies = {\"over18\":\"1\"}    #已滿18歲\n",
    "    )\n",
    "    \n",
    "    if resp.status_code !=200:\n",
    "        print(\"Invalid url\",resp.url)\n",
    "    else:\n",
    "        return resp.text"
   ]
  },
  {
   "cell_type": "code",
   "execution_count": 3,
   "metadata": {
    "collapsed": false
   },
   "outputs": [],
   "source": [
    "# get_web_page(\"https://www.ptt.cc/bbs/Beauty/index.html\")"
   ]
  },
  {
   "cell_type": "code",
   "execution_count": null,
   "metadata": {
    "collapsed": true
   },
   "outputs": [],
   "source": []
  },
  {
   "cell_type": "markdown",
   "metadata": {},
   "source": [
    "# BeautifulSoup"
   ]
  },
  {
   "cell_type": "code",
   "execution_count": 4,
   "metadata": {
    "collapsed": true
   },
   "outputs": [],
   "source": [
    "#你在瀏覽器看到的美觀網頁，主要由三個部分構成: HTML (網頁的骨架結構)、CSS (網頁的樣式) 與 JavaScript (在瀏覽器端執行，負責與使用者互動的程式功能)。\n",
    "#對於網頁或爬蟲的初學者來說，最重要的觀念是了解：\n",
    "#網頁就是由各式標籤 (tag) 所組成的階層式文件，要取得所需的網頁區塊資料，只要用 tag 與相關屬性去定位資料所在位置即可。"
   ]
  },
  {
   "cell_type": "code",
   "execution_count": 5,
   "metadata": {
    "collapsed": true
   },
   "outputs": [],
   "source": [
    "#HTML 文件內不同的標籤 (例如 <title>, <h1>, <p>, <a> 有著不同的語義，表示建構網頁用的不同元件，\n",
    "#且標籤可以有各種屬性 (例如 id, class, style 等通用屬性, 或 href 等專屬屬性)，"
   ]
  },
  {
   "cell_type": "code",
   "execution_count": 6,
   "metadata": {
    "collapsed": true
   },
   "outputs": [],
   "source": [
    "#因此我們可以用標籤 + 屬性去定位資料所在的區塊並取得資料"
   ]
  },
  {
   "cell_type": "code",
   "execution_count": 7,
   "metadata": {
    "collapsed": true
   },
   "outputs": [],
   "source": [
    "from bs4 import BeautifulSoup"
   ]
  },
  {
   "cell_type": "code",
   "execution_count": 8,
   "metadata": {
    "collapsed": true
   },
   "outputs": [],
   "source": [
    "html_doc = \"\"\"\n",
    "<html>\n",
    "  <head>\n",
    "    <title>我是網頁標題</title>\n",
    "    <style>\n",
    "    .large {\n",
    "      color:blue;\n",
    "      text-align: center;\n",
    "    }\n",
    "    </style>\n",
    "  </head>\n",
    "  <body>\n",
    "    <h1 class=\"large\">我是變色且置中的抬頭</h1>\n",
    "    <p id=\"p1\">我是段落一</p>\n",
    "    <p id=\"p2\" style=\"\">我是段落二</p>\n",
    "    <div><a href='http://blog.castman.net' style=\"font-size:200%;\">我是放大的超連結</a></div>\n",
    "  </body>\n",
    "</html>\n",
    "\"\"\""
   ]
  },
  {
   "cell_type": "code",
   "execution_count": 9,
   "metadata": {
    "collapsed": false
   },
   "outputs": [
    {
     "name": "stdout",
     "output_type": "stream",
     "text": [
      "\n",
      "<html>\n",
      "<head>\n",
      "<title>我是網頁標題</title>\n",
      "<style>\n",
      "    .large {\n",
      "      color:blue;\n",
      "      text-align: center;\n",
      "    }\n",
      "    </style>\n",
      "</head>\n",
      "<body>\n",
      "<h1 class=\"large\">我是變色且置中的抬頭</h1>\n",
      "<p id=\"p1\">我是段落一</p>\n",
      "<p id=\"p2\" style=\"\">我是段落二</p>\n",
      "<div><a href=\"http://blog.castman.net\" style=\"font-size:200%;\">我是放大的超連結</a></div>\n",
      "</body>\n",
      "</html>\n",
      "\n"
     ]
    }
   ],
   "source": [
    "soup = BeautifulSoup(html_doc, 'html.parser')  #把它變為美麗的一碗濃湯\n",
    "print(soup)"
   ]
  },
  {
   "cell_type": "code",
   "execution_count": 10,
   "metadata": {
    "collapsed": false
   },
   "outputs": [
    {
     "data": {
      "text/plain": [
       "[<p id=\"p1\">我是段落一</p>]"
      ]
     },
     "execution_count": 10,
     "metadata": {},
     "output_type": "execute_result"
    }
   ],
   "source": [
    "# <title>, <h1>, <p>, <a>  +  id, class, style 等通用屬性, 或 href \n",
    "\n",
    "soup.find_all(\"p\",id=\"p1\") # e.g."
   ]
  },
  {
   "cell_type": "code",
   "execution_count": 11,
   "metadata": {
    "collapsed": false
   },
   "outputs": [
    {
     "name": "stdout",
     "output_type": "stream",
     "text": [
      "p1 我是段落一\n",
      "p2 我是段落二\n"
     ]
    }
   ],
   "source": [
    "haha =  soup.find_all(\"p\") #回傳一個list\n",
    "\n",
    "for p in haha:\n",
    "    print(p['id'], p.string)"
   ]
  },
  {
   "cell_type": "code",
   "execution_count": 12,
   "metadata": {
    "collapsed": false
   },
   "outputs": [
    {
     "name": "stdout",
     "output_type": "stream",
     "text": [
      "None\n"
     ]
    }
   ],
   "source": [
    "#如果你要取得的屬性不存在，直接使用屬性名稱會出現錯誤訊息，因此若你不確定屬性是否存在，可以改用 get() 方法\n",
    "print(soup.find(id = \"p1\").get('style'))"
   ]
  },
  {
   "cell_type": "code",
   "execution_count": null,
   "metadata": {
    "collapsed": true
   },
   "outputs": [],
   "source": []
  },
  {
   "cell_type": "markdown",
   "metadata": {},
   "source": [
    "### ppt表特版  ( 抓取今天所有的貼文 標題, 推文數量, 網址"
   ]
  },
  {
   "cell_type": "code",
   "execution_count": 54,
   "metadata": {
    "collapsed": true
   },
   "outputs": [],
   "source": [
    "#檢視網頁原始碼, 看結構"
   ]
  },
  {
   "cell_type": "code",
   "execution_count": 13,
   "metadata": {
    "collapsed": false
   },
   "outputs": [],
   "source": [
    "def get_articles(dom,date):\n",
    "    soup = BeautifulSoup(dom,\"html.parser\")\n",
    "    articles = [] #容器\n",
    "    divs = soup.find_all(\"div\", \"r-ent\")  # list\n",
    "    \n",
    "    for d in divs:\n",
    "        if d.find(\"div\",\"date\").string.strip()==date: # 確認日期正確, strip()是去除左右空白格\n",
    "  \n",
    "            #取得推文數\n",
    "            push_count =0\n",
    "            if d.find(\"div\",\"nrec\").string:  #確認存在\n",
    "                try:\n",
    "                    push_count = int(d.find(\"div\",\"nrec\").string)\n",
    "                except:\n",
    "                    pass\n",
    "            \n",
    "            #取得文章連結&標題\n",
    "            if d.find(\"a\"): #確認有超連結，表示文章未被刪除\n",
    "                href = d.find(\"a\")[\"href\"]\n",
    "                title = d.find(\"a\").string\n",
    "                articles.append({\"title\":title,\n",
    "                                \"href\":href,\n",
    "                                \"push_count\":push_count})\n",
    "            \n",
    "    return articles\n",
    "        \n",
    "    \n",
    "    \n",
    "    "
   ]
  },
  {
   "cell_type": "code",
   "execution_count": 14,
   "metadata": {
    "collapsed": true
   },
   "outputs": [],
   "source": [
    "page = get_web_page('https://www.ptt.cc/bbs/Beauty/index2201.html')"
   ]
  },
  {
   "cell_type": "code",
   "execution_count": 15,
   "metadata": {
    "collapsed": false
   },
   "outputs": [],
   "source": [
    "import time\n",
    "if page:\n",
    "    date = time.strftime(\"%m/%d\").lstrip('0')  # 今天日期, 去掉開頭的 '0' 以符合 PTT 網站格式。lstrip的l是左邊的意思\n",
    "    current_articles = get_articles(page, date)\n",
    "    for post in current_articles:\n",
    "        print(post)"
   ]
  },
  {
   "cell_type": "code",
   "execution_count": 16,
   "metadata": {
    "collapsed": false
   },
   "outputs": [
    {
     "name": "stdout",
     "output_type": "stream",
     "text": [
      "{'push_count': 10, 'title': '[正妹] 一張試水溫', 'href': '/bbs/Beauty/M.1498408545.A.DDF.html'}\n",
      "{'push_count': 10, 'title': '[正妹]冰與火 Ros', 'href': '/bbs/Beauty/M.1498411524.A.D20.html'}\n",
      "{'push_count': 0, 'title': '[神人] 應該是常外拍的model?', 'href': '/bbs/Beauty/M.1498414669.A.9AD.html'}\n",
      "{'push_count': 0, 'title': '[正妹] 朋友來試水溫', 'href': '/bbs/Beauty/M.1498420374.A.620.html'}\n",
      "{'push_count': 12, 'title': '[正妹] 藍色星期一', 'href': '/bbs/Beauty/M.1498442575.A.20B.html'}\n",
      "{'push_count': 13, 'title': '[正妹] 三鐵健康女孩', 'href': '/bbs/Beauty/M.1498446627.A.223.html'}\n",
      "{'push_count': 0, 'title': '[神人] 舞台車正妹', 'href': '/bbs/Beauty/M.1498446757.A.85D.html'}\n",
      "{'push_count': 0, 'title': '[正妹] 衝突美 x 韓國 x 健身', 'href': '/bbs/Beauty/M.1498450082.A.644.html'}\n",
      "{'push_count': 14, 'title': '[正妹] Nathana Schilling 巴西模特兒 178cm ', 'href': '/bbs/Beauty/M.1498451998.A.795.html'}\n",
      "{'push_count': 38, 'title': '[正妹] 老師好甜', 'href': '/bbs/Beauty/M.1498455665.A.833.html'}\n"
     ]
    }
   ],
   "source": [
    "# 上面那行已經過期ＱＱＱ\n",
    "\n",
    "import time\n",
    "if page:\n",
    "    date = \"6/26\"  # 今天日期, 去掉開頭的 '0' 以符合 PTT 網站格式。lstrip的l是左邊的意思\n",
    "    current_articles = get_articles(page, date)\n",
    "    for post in current_articles:\n",
    "        print(post)"
   ]
  },
  {
   "cell_type": "markdown",
   "metadata": {},
   "source": [
    "### 抓取今天貼文的圖，一個貼文有一個資料夾 裡面放很多圖  and  計算圖片數量"
   ]
  },
  {
   "cell_type": "code",
   "execution_count": 17,
   "metadata": {
    "collapsed": true
   },
   "outputs": [],
   "source": [
    "import re"
   ]
  },
  {
   "cell_type": "code",
   "execution_count": 18,
   "metadata": {
    "collapsed": true
   },
   "outputs": [],
   "source": [
    "import os"
   ]
  },
  {
   "cell_type": "code",
   "execution_count": 19,
   "metadata": {
    "collapsed": true
   },
   "outputs": [],
   "source": [
    "import urllib"
   ]
  },
  {
   "cell_type": "code",
   "execution_count": 20,
   "metadata": {
    "collapsed": true
   },
   "outputs": [],
   "source": [
    "# 回傳該篇文章的圖片連結\n",
    "def parse(dom):\n",
    "    soup = BeautifulSoup(dom, 'html.parser')\n",
    "    links = soup.find(id='main-content').find_all('a')\n",
    "    img_urls = []\n",
    "    for link in links:\n",
    "        if re.match(r'^https?://(i.)?(m.)?imgur.com', link['href']):  # 此串網址用regular expression海納百川。r是為了逃脫字元\n",
    "            img_urls.append(link['href'])\n",
    "    return img_urls"
   ]
  },
  {
   "cell_type": "code",
   "execution_count": 21,
   "metadata": {
    "collapsed": true
   },
   "outputs": [],
   "source": [
    "# 儲存圖片\n",
    "def save(img_urls, title):\n",
    "    if img_urls:\n",
    "        try:\n",
    "            dname = title.strip()  # 用 strip() 去除字串前後的空白\n",
    "            os.makedirs(dname)   # 在現在路徑底下創建資料夾\n",
    "            for img_url in img_urls:\n",
    "                if img_url.split('//')[1].startswith('m.'):\n",
    "                    img_url = img_url.replace('//m.', '//i.')\n",
    "                if not img_url.split('//')[1].startswith('i.'):  # if not好用！\n",
    "                    img_url = img_url.split('//')[0] + '//i.' + img_url.split('//')[1]\n",
    "                if not img_url.endswith('.jpg'):\n",
    "                    img_url += '.jpg'\n",
    "                fname = img_url.split('/')[-1]\n",
    "                urllib.request.urlretrieve(img_url, os.path.join(dname, fname)) #這行好神秘\n",
    "        except Exception as e:\n",
    "            print(e)\n",
    "            \n",
    "#下載圖片時用的網址必須是 i.imgur.com 開頭，因此要把 m.imgur.com 換成 i.imgur.com，或把 imgur.com 補成 i.imgur.com"
   ]
  },
  {
   "cell_type": "code",
   "execution_count": 23,
   "metadata": {
    "collapsed": false
   },
   "outputs": [],
   "source": [
    "PTT_URL = 'https://www.ptt.cc' #PTT 網頁內文章的 href 屬性是相對路徑，因此連線時要加上完整網址名稱 (PTT_URL)\n",
    "\n",
    "for article in current_articles:\n",
    "    page = get_web_page(PTT_URL + article['href'])\n",
    "    if page:\n",
    "        #第1步驟\n",
    "        img_urls = parse(page)\n",
    "        #2步驟\n",
    "        save(img_urls, article['title'])\n",
    "        article['num_image'] = len(img_urls)    # 直接在dictionary創建num_image"
   ]
  },
  {
   "cell_type": "code",
   "execution_count": 255,
   "metadata": {
    "collapsed": false
   },
   "outputs": [],
   "source": [
    "# 把資訊存成json檔案\n",
    "\n",
    "import json\n",
    "\n",
    "with open('data.json', 'w', encoding='utf-8') as f:\n",
    "    json.dump(current_articles, f, indent=2, sort_keys=True, ensure_ascii=False)\n",
    "    \n"
   ]
  },
  {
   "cell_type": "code",
   "execution_count": 24,
   "metadata": {
    "collapsed": false,
    "scrolled": true
   },
   "outputs": [
    {
     "data": {
      "text/plain": [
       "[{'href': '/bbs/Beauty/M.1498408545.A.DDF.html',\n",
       "  'num_image': 1,\n",
       "  'push_count': 10,\n",
       "  'title': '[正妹] 一張試水溫'},\n",
       " {'href': '/bbs/Beauty/M.1498411524.A.D20.html',\n",
       "  'num_image': 16,\n",
       "  'push_count': 10,\n",
       "  'title': '[正妹]冰與火 Ros'},\n",
       " {'href': '/bbs/Beauty/M.1498414669.A.9AD.html',\n",
       "  'num_image': 0,\n",
       "  'push_count': 0,\n",
       "  'title': '[神人] 應該是常外拍的model?'},\n",
       " {'href': '/bbs/Beauty/M.1498420374.A.620.html',\n",
       "  'num_image': 8,\n",
       "  'push_count': 0,\n",
       "  'title': '[正妹] 朋友來試水溫'},\n",
       " {'href': '/bbs/Beauty/M.1498442575.A.20B.html',\n",
       "  'num_image': 1,\n",
       "  'push_count': 12,\n",
       "  'title': '[正妹] 藍色星期一'},\n",
       " {'href': '/bbs/Beauty/M.1498446627.A.223.html',\n",
       "  'num_image': 8,\n",
       "  'push_count': 13,\n",
       "  'title': '[正妹] 三鐵健康女孩'},\n",
       " {'href': '/bbs/Beauty/M.1498446757.A.85D.html',\n",
       "  'num_image': 0,\n",
       "  'push_count': 0,\n",
       "  'title': '[神人] 舞台車正妹'},\n",
       " {'href': '/bbs/Beauty/M.1498450082.A.644.html',\n",
       "  'num_image': 5,\n",
       "  'push_count': 0,\n",
       "  'title': '[正妹] 衝突美 x 韓國 x 健身'},\n",
       " {'href': '/bbs/Beauty/M.1498451998.A.795.html',\n",
       "  'num_image': 7,\n",
       "  'push_count': 14,\n",
       "  'title': '[正妹] Nathana Schilling 巴西模特兒 178cm '},\n",
       " {'href': '/bbs/Beauty/M.1498455665.A.833.html',\n",
       "  'num_image': 8,\n",
       "  'push_count': 38,\n",
       "  'title': '[正妹] 老師好甜'}]"
      ]
     },
     "execution_count": 24,
     "metadata": {},
     "output_type": "execute_result"
    }
   ],
   "source": [
    "#這就是Json檔長的樣子，{}裡面是物件 有點像字典   []是陣列，裏頭可以是幾乎任何東西\n",
    "\n",
    "current_articles"
   ]
  },
  {
   "cell_type": "markdown",
   "metadata": {},
   "source": [
    "# 資料分析"
   ]
  },
  {
   "cell_type": "code",
   "execution_count": null,
   "metadata": {
    "collapsed": true
   },
   "outputs": [],
   "source": [
    "\n",
    "\n",
    "# http://blog.castman.net/%E6%95%99%E5%AD%B8/2016/12/31/python-data-science-tutorial-5.html"
   ]
  }
 ],
 "metadata": {
  "kernelspec": {
   "display_name": "Python 3",
   "language": "python",
   "name": "python3"
  },
  "language_info": {
   "codemirror_mode": {
    "name": "ipython",
    "version": 3
   },
   "file_extension": ".py",
   "mimetype": "text/x-python",
   "name": "python",
   "nbconvert_exporter": "python",
   "pygments_lexer": "ipython3",
   "version": "3.5.2"
  }
 },
 "nbformat": 4,
 "nbformat_minor": 0
}
